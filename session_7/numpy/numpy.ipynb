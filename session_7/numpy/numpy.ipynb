{
 "cells": [
  {
   "cell_type": "code",
   "execution_count": 3,
   "id": "222d844c-cb78-4ed6-9680-c311bac9ff79",
   "metadata": {},
   "outputs": [],
   "source": [
    "import numpy as np"
   ]
  },
  {
   "cell_type": "markdown",
   "id": "45b34b29-6a5b-4b96-b28b-98964db1ca7b",
   "metadata": {
    "jp-MarkdownHeadingCollapsed": true
   },
   "source": [
    "# intro"
   ]
  },
  {
   "cell_type": "code",
   "execution_count": 2,
   "id": "75f9e924-45ed-4315-b430-d743bd66d7ed",
   "metadata": {},
   "outputs": [],
   "source": [
    "list1=list(range(1000000))"
   ]
  },
  {
   "cell_type": "code",
   "execution_count": 3,
   "id": "49992420-19cb-4c65-8ead-f83ed7ab0882",
   "metadata": {},
   "outputs": [],
   "source": [
    "np_array=np.arange(1000000)"
   ]
  },
  {
   "cell_type": "code",
   "execution_count": 4,
   "id": "51a7da17-92d1-421c-92c3-9970cb277dc1",
   "metadata": {},
   "outputs": [
    {
     "name": "stdout",
     "output_type": "stream",
     "text": [
      "35.8 ms ± 931 µs per loop (mean ± std. dev. of 7 runs, 10 loops each)\n"
     ]
    }
   ],
   "source": [
    "%timeit list1*3"
   ]
  },
  {
   "cell_type": "code",
   "execution_count": 5,
   "id": "e14c3432-9365-49d5-9a61-275798e8cf6d",
   "metadata": {},
   "outputs": [
    {
     "name": "stdout",
     "output_type": "stream",
     "text": [
      "3.22 ms ± 143 µs per loop (mean ± std. dev. of 7 runs, 100 loops each)\n"
     ]
    }
   ],
   "source": [
    "%timeit np_array*3"
   ]
  },
  {
   "cell_type": "markdown",
   "id": "a0c8d097-4bef-4b7e-9822-474bfd7a3b1f",
   "metadata": {
    "jp-MarkdownHeadingCollapsed": true
   },
   "source": [
    "# Creating Ndarrays"
   ]
  },
  {
   "cell_type": "code",
   "execution_count": 22,
   "id": "d090e353-94aa-4fad-92a2-db4c4611ed2f",
   "metadata": {},
   "outputs": [],
   "source": [
    "np_array_2=np.random.randn(2,3,2)"
   ]
  },
  {
   "cell_type": "code",
   "execution_count": 23,
   "id": "35954236-b81c-480a-a8a1-e6faf733f0a5",
   "metadata": {},
   "outputs": [
    {
     "data": {
      "text/plain": [
       "array([[[ 0.79378536,  0.17657363],\n",
       "        [-0.60258239, -0.39606671],\n",
       "        [-1.5051163 , -0.2873536 ]],\n",
       "\n",
       "       [[ 0.14537771,  0.27329664],\n",
       "        [-0.95562557, -0.52689641],\n",
       "        [-1.39242121, -0.62643179]]])"
      ]
     },
     "execution_count": 23,
     "metadata": {},
     "output_type": "execute_result"
    }
   ],
   "source": [
    "np_array_2"
   ]
  },
  {
   "cell_type": "code",
   "execution_count": 21,
   "id": "b8895100-d5e8-4b56-9851-718568dd5bb5",
   "metadata": {},
   "outputs": [
    {
     "data": {
      "text/plain": [
       "2"
      ]
     },
     "execution_count": 21,
     "metadata": {},
     "output_type": "execute_result"
    }
   ],
   "source": [
    "np_array_2.ndim"
   ]
  },
  {
   "cell_type": "code",
   "execution_count": 16,
   "id": "e9fb4593-a1d1-458b-b494-72018d8ece16",
   "metadata": {},
   "outputs": [
    {
     "data": {
      "text/plain": [
       "(2, 3)"
      ]
     },
     "execution_count": 16,
     "metadata": {},
     "output_type": "execute_result"
    }
   ],
   "source": [
    "np_array_2.shape"
   ]
  },
  {
   "cell_type": "code",
   "execution_count": 17,
   "id": "0f27c8fc-a1b3-40e8-b580-50d878f6ea9b",
   "metadata": {},
   "outputs": [
    {
     "data": {
      "text/plain": [
       "dtype('float64')"
      ]
     },
     "execution_count": 17,
     "metadata": {},
     "output_type": "execute_result"
    }
   ],
   "source": [
    "np_array_2.dtype"
   ]
  },
  {
   "cell_type": "code",
   "execution_count": 24,
   "id": "006df1dc-e422-4fb6-9298-cd32bc5a548d",
   "metadata": {},
   "outputs": [],
   "source": [
    "lista=[1,2,5,6]"
   ]
  },
  {
   "cell_type": "code",
   "execution_count": 26,
   "id": "052c2e3e-86d1-40c7-b526-45456809b827",
   "metadata": {},
   "outputs": [],
   "source": [
    "array=np.array(lista)"
   ]
  },
  {
   "cell_type": "code",
   "execution_count": 27,
   "id": "c9c8ac96-04f8-4e84-b0bb-2a51745664d2",
   "metadata": {},
   "outputs": [
    {
     "data": {
      "text/plain": [
       "array([1, 2, 5, 6])"
      ]
     },
     "execution_count": 27,
     "metadata": {},
     "output_type": "execute_result"
    }
   ],
   "source": [
    "array"
   ]
  },
  {
   "cell_type": "code",
   "execution_count": 28,
   "id": "48de8c0c-d6ab-4ba8-87e1-8ec211da17b7",
   "metadata": {},
   "outputs": [
    {
     "data": {
      "text/plain": [
       "1"
      ]
     },
     "execution_count": 28,
     "metadata": {},
     "output_type": "execute_result"
    }
   ],
   "source": [
    "array.ndim"
   ]
  },
  {
   "cell_type": "code",
   "execution_count": 29,
   "id": "55509b3d-5960-4f8e-a3f0-d1c032e579e2",
   "metadata": {},
   "outputs": [
    {
     "data": {
      "text/plain": [
       "(4,)"
      ]
     },
     "execution_count": 29,
     "metadata": {},
     "output_type": "execute_result"
    }
   ],
   "source": [
    "array.shape"
   ]
  },
  {
   "cell_type": "code",
   "execution_count": 30,
   "id": "3e5efe96-fc1b-45bc-b7b5-6d70db52e2b7",
   "metadata": {},
   "outputs": [],
   "source": [
    "list_2=[[1,2,3],[1,2,3]]"
   ]
  },
  {
   "cell_type": "code",
   "execution_count": 31,
   "id": "139f37b9-c9fe-4079-84b0-5dafd9a32e06",
   "metadata": {},
   "outputs": [],
   "source": [
    "array_2=np.array(list_2)"
   ]
  },
  {
   "cell_type": "code",
   "execution_count": 32,
   "id": "e7a91780-285c-44e1-944d-abfa6d494e22",
   "metadata": {},
   "outputs": [
    {
     "data": {
      "text/plain": [
       "array([[1, 2, 3],\n",
       "       [1, 2, 3]])"
      ]
     },
     "execution_count": 32,
     "metadata": {},
     "output_type": "execute_result"
    }
   ],
   "source": [
    "array_2"
   ]
  },
  {
   "cell_type": "code",
   "execution_count": 35,
   "id": "584c1d3e-94be-40cd-abcf-77eff466c217",
   "metadata": {},
   "outputs": [
    {
     "data": {
      "text/plain": [
       "2"
      ]
     },
     "execution_count": 35,
     "metadata": {},
     "output_type": "execute_result"
    }
   ],
   "source": [
    "array_2.ndim"
   ]
  },
  {
   "cell_type": "code",
   "execution_count": 36,
   "id": "6887ccd9-ad98-47ab-a7d6-243cbf692edd",
   "metadata": {},
   "outputs": [
    {
     "data": {
      "text/plain": [
       "(2, 3)"
      ]
     },
     "execution_count": 36,
     "metadata": {},
     "output_type": "execute_result"
    }
   ],
   "source": [
    "array_2.shape"
   ]
  },
  {
   "cell_type": "code",
   "execution_count": 25,
   "id": "ddf36344-4e41-4e14-877e-52c4244a3ed3",
   "metadata": {},
   "outputs": [
    {
     "data": {
      "text/plain": [
       "array([[0., 0., 0.],\n",
       "       [0., 0., 0.],\n",
       "       [0., 0., 0.]])"
      ]
     },
     "execution_count": 25,
     "metadata": {},
     "output_type": "execute_result"
    }
   ],
   "source": [
    "array_3=np.zeros((3,3))\n",
    "array_3"
   ]
  },
  {
   "cell_type": "code",
   "execution_count": 26,
   "id": "ae0a9d76-7ed4-4a70-be9b-95c62a8c4b41",
   "metadata": {},
   "outputs": [
    {
     "data": {
      "text/plain": [
       "array([[1., 1., 1.],\n",
       "       [1., 1., 1.],\n",
       "       [1., 1., 1.]])"
      ]
     },
     "execution_count": 26,
     "metadata": {},
     "output_type": "execute_result"
    }
   ],
   "source": [
    "array_4=np.ones((3,3))\n",
    "array_4"
   ]
  },
  {
   "cell_type": "markdown",
   "id": "fa4b7d54-8ec8-4e02-ac35-e87a4d93b3a3",
   "metadata": {
    "jp-MarkdownHeadingCollapsed": true
   },
   "source": [
    "# change datatype"
   ]
  },
  {
   "cell_type": "code",
   "execution_count": 30,
   "id": "48af37ad-2175-4ff2-87ae-22a4a6ac1e13",
   "metadata": {},
   "outputs": [],
   "source": [
    "list_2=[[1,2,3],[1,2,3]]"
   ]
  },
  {
   "cell_type": "code",
   "execution_count": 31,
   "id": "c7af81a2-c768-4d8a-a25b-e7dd094b8e4e",
   "metadata": {},
   "outputs": [
    {
     "data": {
      "text/plain": [
       "array([[1., 2., 3.],\n",
       "       [1., 2., 3.]])"
      ]
     },
     "execution_count": 31,
     "metadata": {},
     "output_type": "execute_result"
    }
   ],
   "source": [
    "array_2=np.array(list_2)\n",
    "array_float=array_2.astype(np.float64)\n",
    "array_float"
   ]
  },
  {
   "cell_type": "code",
   "execution_count": 32,
   "id": "a2c83f03-fc78-423b-a12e-7f793432bba6",
   "metadata": {},
   "outputs": [],
   "source": [
    "list_2=[\"1\",\"5\",\"6\",\"18\"]\n",
    "array=np.array(list_2)"
   ]
  },
  {
   "cell_type": "code",
   "execution_count": 33,
   "id": "a5e61e8e-f8f8-4336-870f-bf42be96a094",
   "metadata": {},
   "outputs": [
    {
     "ename": "UFuncTypeError",
     "evalue": "ufunc 'subtract' did not contain a loop with signature matching types (dtype('<U2'), dtype('int32')) -> None",
     "output_type": "error",
     "traceback": [
      "\u001b[1;31m---------------------------------------------------------------------------\u001b[0m",
      "\u001b[1;31mUFuncTypeError\u001b[0m                            Traceback (most recent call last)",
      "Cell \u001b[1;32mIn[33], line 1\u001b[0m\n\u001b[1;32m----> 1\u001b[0m \u001b[43marray\u001b[49m\u001b[38;5;241;43m-\u001b[39;49m\u001b[38;5;241;43m5\u001b[39;49m\n",
      "\u001b[1;31mUFuncTypeError\u001b[0m: ufunc 'subtract' did not contain a loop with signature matching types (dtype('<U2'), dtype('int32')) -> None"
     ]
    }
   ],
   "source": [
    "array-5"
   ]
  },
  {
   "cell_type": "code",
   "execution_count": 39,
   "id": "7c9afa0e-c02b-4ede-8803-2c12b4161707",
   "metadata": {},
   "outputs": [],
   "source": [
    "arrayInt=array.astype(np.int16)"
   ]
  },
  {
   "cell_type": "code",
   "execution_count": 40,
   "id": "de4a65d0-ccb6-44fd-b5a5-80f298853ab5",
   "metadata": {},
   "outputs": [
    {
     "data": {
      "text/plain": [
       "array([-4,  0,  1, 13], dtype=int16)"
      ]
     },
     "execution_count": 40,
     "metadata": {},
     "output_type": "execute_result"
    }
   ],
   "source": [
    "arrayInt-5"
   ]
  },
  {
   "cell_type": "markdown",
   "id": "0c42f26a-1237-41de-8020-b085b8b0315a",
   "metadata": {
    "jp-MarkdownHeadingCollapsed": true
   },
   "source": [
    "# Arithmetic with NumPy Arrays"
   ]
  },
  {
   "cell_type": "code",
   "execution_count": 54,
   "id": "512e0336-09c7-4e49-88c9-04c98aecbfb3",
   "metadata": {},
   "outputs": [
    {
     "data": {
      "text/plain": [
       "array([[1, 2, 3],\n",
       "       [1, 2, 3]])"
      ]
     },
     "execution_count": 54,
     "metadata": {},
     "output_type": "execute_result"
    }
   ],
   "source": [
    "list1=[[1,2,3],[1,2,3]]\n",
    "array=np.array(list1)\n",
    "array"
   ]
  },
  {
   "cell_type": "code",
   "execution_count": 55,
   "id": "2de7af4a-edb2-4a34-9e2e-83a102d45560",
   "metadata": {},
   "outputs": [
    {
     "data": {
      "text/plain": [
       "array([[1, 4, 9],\n",
       "       [1, 4, 9]])"
      ]
     },
     "execution_count": 55,
     "metadata": {},
     "output_type": "execute_result"
    }
   ],
   "source": [
    "array * array     #element wise "
   ]
  },
  {
   "cell_type": "code",
   "execution_count": 56,
   "id": "b2ede0ab-a5ac-44b3-addd-2250699f3374",
   "metadata": {},
   "outputs": [
    {
     "data": {
      "text/plain": [
       "array([[0, 0, 0],\n",
       "       [0, 0, 0]])"
      ]
     },
     "execution_count": 56,
     "metadata": {},
     "output_type": "execute_result"
    }
   ],
   "source": [
    "array- array"
   ]
  },
  {
   "cell_type": "code",
   "execution_count": 57,
   "id": "382ce63a-33eb-4a79-8273-0faa2271224a",
   "metadata": {},
   "outputs": [
    {
     "data": {
      "text/plain": [
       "array([[ 5, 10, 15],\n",
       "       [ 5, 10, 15]])"
      ]
     },
     "execution_count": 57,
     "metadata": {},
     "output_type": "execute_result"
    }
   ],
   "source": [
    "array *5"
   ]
  },
  {
   "cell_type": "code",
   "execution_count": 58,
   "id": "76d239dd-fc69-4613-950e-901a506e559d",
   "metadata": {},
   "outputs": [
    {
     "data": {
      "text/plain": [
       "array([[1.        , 1.41421356, 1.73205081],\n",
       "       [1.        , 1.41421356, 1.73205081]])"
      ]
     },
     "execution_count": 58,
     "metadata": {},
     "output_type": "execute_result"
    }
   ],
   "source": [
    "array ** 0.5"
   ]
  },
  {
   "cell_type": "code",
   "execution_count": 59,
   "id": "6fe52fb7-cd1d-43ce-8d17-143d495547fb",
   "metadata": {},
   "outputs": [
    {
     "data": {
      "text/plain": [
       "array([[False, False, False],\n",
       "       [False, False, False]])"
      ]
     },
     "execution_count": 59,
     "metadata": {},
     "output_type": "execute_result"
    }
   ],
   "source": [
    "array >5"
   ]
  },
  {
   "cell_type": "markdown",
   "id": "7f326042-6af1-4fad-9d65-515bc5af68bd",
   "metadata": {
    "jp-MarkdownHeadingCollapsed": true
   },
   "source": [
    "# Indexing and Slicing-Part One"
   ]
  },
  {
   "cell_type": "code",
   "execution_count": 55,
   "id": "35e7855a-2a92-430b-a57a-5dfa21e93dce",
   "metadata": {},
   "outputs": [],
   "source": [
    "array=np.arange(2,20,2)"
   ]
  },
  {
   "cell_type": "code",
   "execution_count": 48,
   "id": "a99362a6-7a3b-47fc-a0dc-00d69beca89f",
   "metadata": {},
   "outputs": [
    {
     "data": {
      "text/plain": [
       "array([ 2,  4,  6,  8, 10, 12, 14, 16, 18])"
      ]
     },
     "execution_count": 48,
     "metadata": {},
     "output_type": "execute_result"
    }
   ],
   "source": [
    "array"
   ]
  },
  {
   "cell_type": "code",
   "execution_count": 56,
   "id": "9a2ed3e7-1dfe-4c07-a2a8-9c1590272933",
   "metadata": {},
   "outputs": [
    {
     "data": {
      "text/plain": [
       "10"
      ]
     },
     "execution_count": 56,
     "metadata": {},
     "output_type": "execute_result"
    }
   ],
   "source": [
    "array[4]"
   ]
  },
  {
   "cell_type": "code",
   "execution_count": 49,
   "id": "b322a921-e532-4e52-ac8c-1b430d021194",
   "metadata": {},
   "outputs": [
    {
     "data": {
      "text/plain": [
       "array([ 6,  8, 10, 12, 14, 16])"
      ]
     },
     "execution_count": 49,
     "metadata": {},
     "output_type": "execute_result"
    }
   ],
   "source": [
    "array[2:8]"
   ]
  },
  {
   "cell_type": "code",
   "execution_count": 57,
   "id": "f5372233-85ef-4609-aff9-6939a5513a49",
   "metadata": {},
   "outputs": [
    {
     "data": {
      "text/plain": [
       "array([ 8, 10, 12, 14, 16, 18])"
      ]
     },
     "execution_count": 57,
     "metadata": {},
     "output_type": "execute_result"
    }
   ],
   "source": [
    "slice=array[3:]\n",
    "# slice[0]=99\n",
    "slice"
   ]
  },
  {
   "cell_type": "code",
   "execution_count": 58,
   "id": "11e65e16-e00b-455a-a972-99d13b7bbb5c",
   "metadata": {},
   "outputs": [
    {
     "data": {
      "text/plain": [
       "array([ 2,  4,  6,  8, 10, 12, 14, 16, 18])"
      ]
     },
     "execution_count": 58,
     "metadata": {},
     "output_type": "execute_result"
    }
   ],
   "source": [
    "array"
   ]
  },
  {
   "cell_type": "code",
   "execution_count": 66,
   "id": "1a4f7acf-ebfa-4ca3-b0ce-c10d4e9d1238",
   "metadata": {},
   "outputs": [
    {
     "data": {
      "text/plain": [
       "array([[99, 99, 99]])"
      ]
     },
     "execution_count": 66,
     "metadata": {},
     "output_type": "execute_result"
    }
   ],
   "source": [
    "slice1=array[3:].copy()\n",
    "slice1[0]=99\n"
   ]
  },
  {
   "cell_type": "code",
   "execution_count": 65,
   "id": "1cacf832-e057-40d4-97bb-eb6a66faae64",
   "metadata": {},
   "outputs": [
    {
     "data": {
      "text/plain": [
       "array([[19, 23, 39],\n",
       "       [ 1, 26,  4],\n",
       "       [21,  5, 18],\n",
       "       [ 6, 11, 16]])"
      ]
     },
     "execution_count": 65,
     "metadata": {},
     "output_type": "execute_result"
    }
   ],
   "source": []
  },
  {
   "cell_type": "code",
   "execution_count": 68,
   "id": "9d9afacb-1cc3-4d86-96cf-a5b72d8e9c36",
   "metadata": {},
   "outputs": [
    {
     "data": {
      "text/plain": [
       "array([[19, 23, 39],\n",
       "       [ 1, 26,  4],\n",
       "       [21,  5, 18],\n",
       "       [ 6, 11, 16]])"
      ]
     },
     "execution_count": 68,
     "metadata": {},
     "output_type": "execute_result"
    }
   ],
   "source": [
    "array=np.array([[19,23,39],[1,26,4],[21,5,18],[6,11,16]])     # 2d array \n",
    "array "
   ]
  },
  {
   "cell_type": "code",
   "execution_count": 70,
   "id": "7a3b09a8-0f49-4d41-8776-63e6905e29af",
   "metadata": {},
   "outputs": [
    {
     "data": {
      "text/plain": [
       "array([[19],\n",
       "       [ 1]])"
      ]
     },
     "execution_count": 70,
     "metadata": {},
     "output_type": "execute_result"
    }
   ],
   "source": [
    "array[0:2,0:1]     # slicing rows ,slicing columns"
   ]
  },
  {
   "cell_type": "code",
   "execution_count": 71,
   "id": "8ebcd2a1-3dcd-4e62-95d6-5607517b2f19",
   "metadata": {},
   "outputs": [
    {
     "data": {
      "text/plain": [
       "5"
      ]
     },
     "execution_count": 71,
     "metadata": {},
     "output_type": "execute_result"
    }
   ],
   "source": [
    "array[2,1]"
   ]
  },
  {
   "cell_type": "markdown",
   "id": "ddfc91a4-7d0b-47c1-a37c-41b85f3bb843",
   "metadata": {},
   "source": [
    "# Boolean Indexing"
   ]
  },
  {
   "cell_type": "code",
   "execution_count": 156,
   "id": "0e7a2bcb-29ae-411f-9176-65dbc4c1806f",
   "metadata": {},
   "outputs": [
    {
     "data": {
      "text/plain": [
       "array(['a', 'b', 'a', 'c', 'd', 'a', 'f'], dtype='<U1')"
      ]
     },
     "execution_count": 156,
     "metadata": {},
     "output_type": "execute_result"
    }
   ],
   "source": [
    "array1=np.array([\"a\",\"b\",\"a\",\"c\",\"d\",\"a\",\"f\"])\n",
    "array1"
   ]
  },
  {
   "cell_type": "code",
   "execution_count": 157,
   "id": "a0f88a58-dfeb-4e4c-8689-2b3c6352e836",
   "metadata": {},
   "outputs": [
    {
     "data": {
      "text/plain": [
       "array([ 1,  6,  5, 22, 30, 69, 16])"
      ]
     },
     "execution_count": 157,
     "metadata": {},
     "output_type": "execute_result"
    }
   ],
   "source": [
    "array2=np.array([1,6,5,22,30,69,16])\n",
    "array2"
   ]
  },
  {
   "cell_type": "code",
   "execution_count": 158,
   "id": "7bef8516-752f-4029-8375-2eaa0e0a4371",
   "metadata": {},
   "outputs": [
    {
     "data": {
      "text/plain": [
       "array([ True, False,  True, False, False,  True, False])"
      ]
     },
     "execution_count": 158,
     "metadata": {},
     "output_type": "execute_result"
    }
   ],
   "source": [
    "array1==\"a\""
   ]
  },
  {
   "cell_type": "code",
   "execution_count": 159,
   "id": "931a9475-1df5-4e19-afcf-80625af88a5b",
   "metadata": {},
   "outputs": [
    {
     "data": {
      "text/plain": [
       "array([ 1,  5, 69])"
      ]
     },
     "execution_count": 159,
     "metadata": {},
     "output_type": "execute_result"
    }
   ],
   "source": [
    "array2[array1==\"a\"]"
   ]
  },
  {
   "cell_type": "code",
   "execution_count": 160,
   "id": "ded29809-3d57-45fe-996a-bea3becdb46d",
   "metadata": {},
   "outputs": [
    {
     "data": {
      "text/plain": [
       "array([[ 0.03396309, -0.91437553],\n",
       "       [ 0.84660205, -0.13612122],\n",
       "       [ 0.45844503, -0.52957425],\n",
       "       [ 0.37348633, -1.45081421],\n",
       "       [ 1.33090413, -2.40320372],\n",
       "       [ 0.82806894, -2.96774416],\n",
       "       [-0.43362013,  0.59541921]])"
      ]
     },
     "execution_count": 160,
     "metadata": {},
     "output_type": "execute_result"
    }
   ],
   "source": [
    "array3=np.random.randn(7,2)\n",
    "array3"
   ]
  },
  {
   "cell_type": "code",
   "execution_count": 161,
   "id": "721ceb01-20b5-48b0-8562-9494e75c0794",
   "metadata": {},
   "outputs": [
    {
     "data": {
      "text/plain": [
       "array([[ 0.03396309, -0.91437553],\n",
       "       [ 0.45844503, -0.52957425],\n",
       "       [ 0.82806894, -2.96774416]])"
      ]
     },
     "execution_count": 161,
     "metadata": {},
     "output_type": "execute_result"
    }
   ],
   "source": [
    "array3[array1==\"a\"]"
   ]
  },
  {
   "cell_type": "code",
   "execution_count": 163,
   "id": "809cbf30-d3a2-40d6-a480-ed6670419c0c",
   "metadata": {},
   "outputs": [
    {
     "data": {
      "text/plain": [
       "array([[ 1,  3],\n",
       "       [ 5,  8],\n",
       "       [56, 30],\n",
       "       [ 1, 30],\n",
       "       [ 5,  5],\n",
       "       [ 1,  6]])"
      ]
     },
     "execution_count": 163,
     "metadata": {},
     "output_type": "execute_result"
    }
   ],
   "source": [
    "array4=np.array([[1,3],[5,8],[56,30],[1,30],[5,5],[1,6]])\n",
    "array4"
   ]
  },
  {
   "cell_type": "code",
   "execution_count": 164,
   "id": "a178c304-589a-411d-ae85-880685f97b21",
   "metadata": {},
   "outputs": [
    {
     "data": {
      "text/plain": [
       "(6, 2)"
      ]
     },
     "execution_count": 164,
     "metadata": {},
     "output_type": "execute_result"
    }
   ],
   "source": [
    "array4.shape"
   ]
  },
  {
   "cell_type": "code",
   "execution_count": 168,
   "id": "63ba65f8-b684-4188-81ce-7832fa98946f",
   "metadata": {},
   "outputs": [
    {
     "data": {
      "text/plain": [
       "array([[ 1,  3],\n",
       "       [ 1, 30],\n",
       "       [ 1,  6]])"
      ]
     },
     "execution_count": 168,
     "metadata": {},
     "output_type": "execute_result"
    }
   ],
   "source": [
    "array4[array4[:,0]==1]"
   ]
  },
  {
   "cell_type": "markdown",
   "id": "7eac2aee-0d9a-447e-95f9-90242586526f",
   "metadata": {
    "jp-MarkdownHeadingCollapsed": true
   },
   "source": [
    "# Fancy Indexing"
   ]
  },
  {
   "cell_type": "code",
   "execution_count": 172,
   "id": "5e15203e-64a3-4d5f-967a-0df42aa8ebe6",
   "metadata": {},
   "outputs": [
    {
     "data": {
      "text/plain": [
       "array([45,  9, 13, 23, 37, 10,  6, 38, 23, 35])"
      ]
     },
     "execution_count": 172,
     "metadata": {},
     "output_type": "execute_result"
    }
   ],
   "source": [
    "array=np.random.randint(50,size=10)\n",
    "array"
   ]
  },
  {
   "cell_type": "code",
   "execution_count": 174,
   "id": "18739a5c-2749-4870-a6ae-985c1d2ed3c3",
   "metadata": {},
   "outputs": [
    {
     "data": {
      "text/plain": [
       "array([ 9, 23, 10, 38])"
      ]
     },
     "execution_count": 174,
     "metadata": {},
     "output_type": "execute_result"
    }
   ],
   "source": [
    "index=[1,3,5,7]\n",
    "array[index]"
   ]
  },
  {
   "cell_type": "code",
   "execution_count": 179,
   "id": "fa2aa8bd-aa0e-46de-93ba-b1dd8510e9bf",
   "metadata": {},
   "outputs": [
    {
     "data": {
      "text/plain": [
       "array([[ 9, 23],\n",
       "       [10, 38]])"
      ]
     },
     "execution_count": 179,
     "metadata": {},
     "output_type": "execute_result"
    }
   ],
   "source": [
    "index=np.array([[1,3],[5,7]])\n",
    "array[index]"
   ]
  },
  {
   "cell_type": "code",
   "execution_count": 184,
   "id": "e67d6e6b-04a7-49b3-84b1-2ab1baf8f0ad",
   "metadata": {},
   "outputs": [
    {
     "data": {
      "text/plain": [
       "array([[ 1,  2,  3,  4],\n",
       "       [ 5,  6,  7,  8],\n",
       "       [ 9, 10, 11, 12],\n",
       "       [13, 14, 15, 16]])"
      ]
     },
     "execution_count": 184,
     "metadata": {},
     "output_type": "execute_result"
    }
   ],
   "source": [
    "array=np.array([[1,2,3,4],[5,6,7,8],[9,10,11,12],[13,14,15,16]])\n",
    "array"
   ]
  },
  {
   "cell_type": "code",
   "execution_count": 185,
   "id": "f4e0cca4-a945-4f42-b08b-7770c60fc485",
   "metadata": {},
   "outputs": [],
   "source": [
    "ind=((0,1,2,3),(1,2,3,0))"
   ]
  },
  {
   "cell_type": "code",
   "execution_count": 186,
   "id": "071775c2-4eea-46b7-82d6-53dcdb98aac9",
   "metadata": {},
   "outputs": [
    {
     "data": {
      "text/plain": [
       "array([ 2,  7, 12, 13])"
      ]
     },
     "execution_count": 186,
     "metadata": {},
     "output_type": "execute_result"
    }
   ],
   "source": [
    "array[ind]"
   ]
  },
  {
   "cell_type": "code",
   "execution_count": 187,
   "id": "4b0bfa80-649f-48ee-bf88-f7dd8cbd12ea",
   "metadata": {},
   "outputs": [
    {
     "data": {
      "text/plain": [
       "array([ 2,  7, 12, 13])"
      ]
     },
     "execution_count": 187,
     "metadata": {},
     "output_type": "execute_result"
    }
   ],
   "source": [
    "array[[0,1,2,3],[1,2,3,0]]"
   ]
  },
  {
   "cell_type": "markdown",
   "id": "1109ed11-f180-4e91-b5e3-96b7a236ef3d",
   "metadata": {
    "jp-MarkdownHeadingCollapsed": true
   },
   "source": [
    "# Transposing Arrays"
   ]
  },
  {
   "cell_type": "code",
   "execution_count": 188,
   "id": "e251d7b7-7bb4-4a6c-a119-deb57197464a",
   "metadata": {},
   "outputs": [
    {
     "data": {
      "text/plain": [
       "array([[ 7,  5, 14, 10],\n",
       "       [12, 18,  3, 16],\n",
       "       [10, 16,  2, 17]])"
      ]
     },
     "execution_count": 188,
     "metadata": {},
     "output_type": "execute_result"
    }
   ],
   "source": [
    "array=np.random.randint(20,size=(3,4))\n",
    "array"
   ]
  },
  {
   "cell_type": "code",
   "execution_count": 189,
   "id": "b3288a98-d7c8-426b-b0fb-a932d0a5da3b",
   "metadata": {},
   "outputs": [
    {
     "data": {
      "text/plain": [
       "array([[ 7, 12, 10],\n",
       "       [ 5, 18, 16],\n",
       "       [14,  3,  2],\n",
       "       [10, 16, 17]])"
      ]
     },
     "execution_count": 189,
     "metadata": {},
     "output_type": "execute_result"
    }
   ],
   "source": [
    "array.transpose()"
   ]
  },
  {
   "cell_type": "code",
   "execution_count": 190,
   "id": "153a8ca1-4e06-4535-ab07-3e83078da996",
   "metadata": {},
   "outputs": [
    {
     "data": {
      "text/plain": [
       "array([[ 7, 12, 10],\n",
       "       [ 5, 18, 16],\n",
       "       [14,  3,  2],\n",
       "       [10, 16, 17]])"
      ]
     },
     "execution_count": 190,
     "metadata": {},
     "output_type": "execute_result"
    }
   ],
   "source": [
    "array.T"
   ]
  },
  {
   "cell_type": "markdown",
   "id": "c531ac7e-9f9d-4204-81a3-bd42dba3dcc7",
   "metadata": {
    "jp-MarkdownHeadingCollapsed": true
   },
   "source": [
    "# Mathematical and Statistical Methods"
   ]
  },
  {
   "cell_type": "code",
   "execution_count": 193,
   "id": "96d932c5-8d25-4880-b942-c6488f37f555",
   "metadata": {},
   "outputs": [
    {
     "data": {
      "text/plain": [
       "array([[-0.40272961, -1.23836311, -0.46339626, -0.74120327],\n",
       "       [ 0.86859904, -0.0176813 ,  0.73230416,  0.47060415],\n",
       "       [ 0.2440459 ,  0.44178246,  2.19262677,  0.37804081]])"
      ]
     },
     "execution_count": 193,
     "metadata": {},
     "output_type": "execute_result"
    }
   ],
   "source": [
    "array=np.random.randn(3,4)\n",
    "array"
   ]
  },
  {
   "cell_type": "code",
   "execution_count": 194,
   "id": "b0fec645-549b-42c3-a0d7-79a1d693a959",
   "metadata": {},
   "outputs": [
    {
     "data": {
      "text/plain": [
       "0.20538581219998386"
      ]
     },
     "execution_count": 194,
     "metadata": {},
     "output_type": "execute_result"
    }
   ],
   "source": [
    "array.mean()"
   ]
  },
  {
   "cell_type": "code",
   "execution_count": 195,
   "id": "568542be-9d6d-4a54-ab8e-22f1be68c360",
   "metadata": {},
   "outputs": [
    {
     "data": {
      "text/plain": [
       "0.20538581219998386"
      ]
     },
     "execution_count": 195,
     "metadata": {},
     "output_type": "execute_result"
    }
   ],
   "source": [
    "np.mean(array)"
   ]
  },
  {
   "cell_type": "code",
   "execution_count": 196,
   "id": "b9e7b898-c06b-49ba-ab23-050d3254933e",
   "metadata": {},
   "outputs": [
    {
     "data": {
      "text/plain": [
       "2.192626771087839"
      ]
     },
     "execution_count": 196,
     "metadata": {},
     "output_type": "execute_result"
    }
   ],
   "source": [
    "array.max()"
   ]
  },
  {
   "cell_type": "code",
   "execution_count": 197,
   "id": "10d58704-8f9e-4d16-b416-bfcfdd93561d",
   "metadata": {},
   "outputs": [
    {
     "data": {
      "text/plain": [
       "-1.2383631075201589"
      ]
     },
     "execution_count": 197,
     "metadata": {},
     "output_type": "execute_result"
    }
   ],
   "source": [
    "array.min()"
   ]
  },
  {
   "cell_type": "code",
   "execution_count": 198,
   "id": "1199bf72-e7a2-47ee-9034-cf05fdea308b",
   "metadata": {},
   "outputs": [
    {
     "data": {
      "text/plain": [
       "0.8500698222210623"
      ]
     },
     "execution_count": 198,
     "metadata": {},
     "output_type": "execute_result"
    }
   ],
   "source": [
    "array.std()"
   ]
  },
  {
   "cell_type": "code",
   "execution_count": 200,
   "id": "2974eb3a-ac7b-4b00-9d5a-1c784ba3c86e",
   "metadata": {},
   "outputs": [
    {
     "data": {
      "text/plain": [
       "1"
      ]
     },
     "execution_count": 200,
     "metadata": {},
     "output_type": "execute_result"
    }
   ],
   "source": [
    "array.argmin()"
   ]
  },
  {
   "cell_type": "code",
   "execution_count": 201,
   "id": "bf115b28-f56c-4bf4-8d5d-5aac50c47022",
   "metadata": {},
   "outputs": [
    {
     "data": {
      "text/plain": [
       "10"
      ]
     },
     "execution_count": 201,
     "metadata": {},
     "output_type": "execute_result"
    }
   ],
   "source": [
    "array.argmax()"
   ]
  },
  {
   "cell_type": "code",
   "execution_count": 202,
   "id": "c0a49005-2130-4e5c-82be-4f5b27a4c9de",
   "metadata": {},
   "outputs": [
    {
     "data": {
      "text/plain": [
       "array([[-0.40272961, -1.23836311, -0.46339626, -0.74120327],\n",
       "       [ 0.86859904, -0.0176813 ,  0.73230416,  0.47060415],\n",
       "       [ 0.2440459 ,  0.44178246,  2.19262677,  0.37804081]])"
      ]
     },
     "execution_count": 202,
     "metadata": {},
     "output_type": "execute_result"
    }
   ],
   "source": [
    "array"
   ]
  },
  {
   "cell_type": "code",
   "execution_count": 205,
   "id": "bbd74d0d-788a-4d98-89fd-de1e51ba6bc3",
   "metadata": {},
   "outputs": [
    {
     "data": {
      "text/plain": [
       "array([ 0.70991533, -0.81426195,  2.46153467,  0.10744169])"
      ]
     },
     "execution_count": 205,
     "metadata": {},
     "output_type": "execute_result"
    }
   ],
   "source": [
    "array.sum(axis=0)   # zero for rows and one for columns"
   ]
  },
  {
   "cell_type": "code",
   "execution_count": 207,
   "id": "c9666bfb-e7b0-4c50-8964-db0647618b2f",
   "metadata": {},
   "outputs": [
    {
     "data": {
      "text/plain": [
       "3"
      ]
     },
     "execution_count": 207,
     "metadata": {},
     "output_type": "execute_result"
    }
   ],
   "source": [
    "array1=np.array([True,False,True,False,True])\n",
    "array1.sum()"
   ]
  },
  {
   "cell_type": "code",
   "execution_count": 209,
   "id": "adcde041-ed41-432c-8634-b8200e4e459d",
   "metadata": {},
   "outputs": [
    {
     "data": {
      "text/plain": [
       "True"
      ]
     },
     "execution_count": 209,
     "metadata": {},
     "output_type": "execute_result"
    }
   ],
   "source": [
    "array1.any()"
   ]
  },
  {
   "cell_type": "code",
   "execution_count": 212,
   "id": "673674ea-029e-4281-a0b8-ce6841874795",
   "metadata": {},
   "outputs": [
    {
     "data": {
      "text/plain": [
       "False"
      ]
     },
     "execution_count": 212,
     "metadata": {},
     "output_type": "execute_result"
    }
   ],
   "source": [
    "array1.all()"
   ]
  },
  {
   "cell_type": "markdown",
   "id": "70fb809c-3c72-44ae-be31-ae5464b029ae",
   "metadata": {
    "jp-MarkdownHeadingCollapsed": true
   },
   "source": [
    "# Sorting Arrays"
   ]
  },
  {
   "cell_type": "code",
   "execution_count": 215,
   "id": "7b4c8432-6534-4f02-9077-a9af23a519ed",
   "metadata": {},
   "outputs": [
    {
     "data": {
      "text/plain": [
       "array([-0.74848224, -0.48763432,  0.78863416, -0.4405042 , -1.23997275])"
      ]
     },
     "execution_count": 215,
     "metadata": {},
     "output_type": "execute_result"
    }
   ],
   "source": [
    "array=np.random.randn(5)\n",
    "array"
   ]
  },
  {
   "cell_type": "code",
   "execution_count": 219,
   "id": "80ced316-64b8-4507-a0fe-98e2d1b22687",
   "metadata": {},
   "outputs": [
    {
     "data": {
      "text/plain": [
       "array([-1.23997275, -0.74848224, -0.48763432, -0.4405042 ,  0.78863416])"
      ]
     },
     "execution_count": 219,
     "metadata": {},
     "output_type": "execute_result"
    }
   ],
   "source": [
    "array.sort()\n",
    "array"
   ]
  },
  {
   "cell_type": "code",
   "execution_count": 220,
   "id": "f0789327-9a6c-4d50-9495-3e87675410b0",
   "metadata": {},
   "outputs": [
    {
     "data": {
      "text/plain": [
       "array([-1.23997275, -0.74848224, -0.48763432, -0.4405042 ,  0.78863416])"
      ]
     },
     "execution_count": 220,
     "metadata": {},
     "output_type": "execute_result"
    }
   ],
   "source": [
    "np.sort(array)\n",
    "array"
   ]
  },
  {
   "cell_type": "code",
   "execution_count": 222,
   "id": "fa00b9b6-67e2-40e8-9b6c-10249e2235fc",
   "metadata": {},
   "outputs": [
    {
     "data": {
      "text/plain": [
       "array([ 0.78863416, -0.4405042 , -0.48763432, -0.74848224, -1.23997275])"
      ]
     },
     "execution_count": 222,
     "metadata": {},
     "output_type": "execute_result"
    }
   ],
   "source": [
    "np.sort(array)[::-1]   # in descending order "
   ]
  },
  {
   "cell_type": "markdown",
   "id": "44185c26-65ad-4893-9693-84b1d6c3ad44",
   "metadata": {
    "jp-MarkdownHeadingCollapsed": true
   },
   "source": [
    "# File Input and Output with Arrays"
   ]
  },
  {
   "cell_type": "code",
   "execution_count": 225,
   "id": "f25a7727-bc11-431b-8ff2-b180b03f08be",
   "metadata": {},
   "outputs": [
    {
     "data": {
      "text/plain": [
       "array([0, 1, 2, 3, 4, 5, 6, 7, 8, 9])"
      ]
     },
     "execution_count": 225,
     "metadata": {},
     "output_type": "execute_result"
    }
   ],
   "source": [
    "array=np.arange(10)\n",
    "array"
   ]
  },
  {
   "cell_type": "code",
   "execution_count": 226,
   "id": "96282d5e-f9ea-4d46-83fb-16256672f434",
   "metadata": {},
   "outputs": [],
   "source": [
    "np.save(\"array\",array)"
   ]
  },
  {
   "cell_type": "code",
   "execution_count": 228,
   "id": "01168abc-430d-4361-8497-27c04be03f1b",
   "metadata": {},
   "outputs": [
    {
     "data": {
      "text/plain": [
       "array([0, 1, 2, 3, 4, 5, 6, 7, 8, 9])"
      ]
     },
     "execution_count": 228,
     "metadata": {},
     "output_type": "execute_result"
    }
   ],
   "source": [
    "np.load(\"array.npy\")"
   ]
  },
  {
   "cell_type": "code",
   "execution_count": 230,
   "id": "253f398b-ac52-40e5-8c83-0aac8349c2c6",
   "metadata": {},
   "outputs": [],
   "source": [
    "array2=np.arange(20)"
   ]
  },
  {
   "cell_type": "code",
   "execution_count": 231,
   "id": "dc534ee5-3dbe-474f-879b-a4beba287a88",
   "metadata": {},
   "outputs": [],
   "source": [
    "np.savez(\"arrays.npz\",a1=array,a2=array2)"
   ]
  },
  {
   "cell_type": "code",
   "execution_count": 236,
   "id": "0d6be3d6-bb96-45d7-924d-1842b20e3f59",
   "metadata": {},
   "outputs": [
    {
     "data": {
      "text/plain": [
       "array([ 0,  1,  2,  3,  4,  5,  6,  7,  8,  9, 10, 11, 12, 13, 14, 15, 16,\n",
       "       17, 18, 19])"
      ]
     },
     "execution_count": 236,
     "metadata": {},
     "output_type": "execute_result"
    }
   ],
   "source": [
    "np.load(\"arrays.npz\")[\"a2\"]"
   ]
  },
  {
   "cell_type": "code",
   "execution_count": null,
   "id": "45586f5c-dbc4-46da-903b-dd3c50ec8e8c",
   "metadata": {},
   "outputs": [],
   "source": []
  }
 ],
 "metadata": {
  "kernelspec": {
   "display_name": "Python 3 (ipykernel)",
   "language": "python",
   "name": "python3"
  },
  "language_info": {
   "codemirror_mode": {
    "name": "ipython",
    "version": 3
   },
   "file_extension": ".py",
   "mimetype": "text/x-python",
   "name": "python",
   "nbconvert_exporter": "python",
   "pygments_lexer": "ipython3",
   "version": "3.12.1"
  }
 },
 "nbformat": 4,
 "nbformat_minor": 5
}
